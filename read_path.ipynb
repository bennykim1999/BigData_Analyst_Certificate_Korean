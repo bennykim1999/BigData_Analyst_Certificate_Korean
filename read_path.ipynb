{
  "nbformat": 4,
  "nbformat_minor": 0,
  "metadata": {
    "colab": {
      "provenance": [],
      "toc_visible": true,
      "authorship_tag": "ABX9TyPO5rDdkKnH6w4Yil+0Hbxe",
      "include_colab_link": true
    },
    "kernelspec": {
      "name": "python3",
      "display_name": "Python 3"
    },
    "language_info": {
      "name": "python"
    }
  },
  "cells": [
    {
      "cell_type": "markdown",
      "metadata": {
        "id": "view-in-github",
        "colab_type": "text"
      },
      "source": [
        "<a href=\"https://colab.research.google.com/github/bennykim1999/BigData_Analyst_Certificate_Korean/blob/main/read_path.ipynb\" target=\"_parent\"><img src=\"https://colab.research.google.com/assets/colab-badge.svg\" alt=\"Open In Colab\"/></a>"
      ]
    },
    {
      "cell_type": "code",
      "execution_count": null,
      "metadata": {
        "id": "TY27ytfl-WIK"
      },
      "outputs": [],
      "source": []
    },
    {
      "cell_type": "markdown",
      "source": [
        "# New Section"
      ],
      "metadata": {
        "id": "6QaaNbEh-au2"
      }
    },
    {
      "cell_type": "code",
      "source": [
        "import pandas as pd\n",
        "!git clone https://github.com/AnalyticsKnight/yemoonsaBigdata\n",
        "#q1=pd.read_csv('https://github.com/AnalyticsKnight/yemoonsaBigdata/datasets/Part2/penguin_y_train.csv', index_col=0)\n",
        "q1=pd.read_csv('./yemoonsaBigdata/datasets/Part2/penguin_X_train.csv', index_col=0)\n",
        "print(q1.head())"
      ],
      "metadata": {
        "colab": {
          "base_uri": "https://localhost:8080/"
        },
        "id": "-c6r8kBzyq_G",
        "outputId": "75e88d9c-15f2-498a-c59a-f0d300bf6cdd"
      },
      "execution_count": 1,
      "outputs": [
        {
          "output_type": "stream",
          "name": "stdout",
          "text": [
            "Cloning into 'yemoonsaBigdata'...\n",
            "remote: Enumerating objects: 637, done.\u001b[K\n",
            "remote: Counting objects: 100% (274/274), done.\u001b[K\n",
            "remote: Compressing objects: 100% (165/165), done.\u001b[K\n",
            "remote: Total 637 (delta 136), reused 184 (delta 109), pack-reused 363\u001b[K\n",
            "Receiving objects: 100% (637/637), 10.76 MiB | 19.82 MiB/s, done.\n",
            "Resolving deltas: 100% (321/321), done.\n",
            "              island     sex  bill_length_mm  bill_depth_mm  flipper_length_mm\n",
            "species                                                                       \n",
            "Adelie     Torgersen     NaN            42.0           20.2              190.0\n",
            "Gentoo        Biscoe  FEMALE            43.5           15.2              213.0\n",
            "Adelie     Torgersen    MALE            42.8           18.5              195.0\n",
            "Chinstrap      Dream    MALE            53.5           19.9              205.0\n",
            "Gentoo        Biscoe    MALE            50.2           14.3              218.0\n"
          ]
        }
      ]
    }
  ]
}